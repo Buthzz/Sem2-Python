{
 "nbformat": 4,
 "nbformat_minor": 0,
 "metadata": {
  "colab": {
   "provenance": []
  },
  "kernelspec": {
   "name": "python3",
   "display_name": "Python 3 (ipykernel)",
   "language": "python"
  },
  "language_info": {
   "name": "python"
  }
 },
 "cells": [
  {
   "cell_type": "markdown",
   "source": [
    "#### TUGAS PRAKTIKUM MODUL - 01 (Review Algoritma #1)\n",
    "\n",
    "* Nama: Muhammad Fajar Nugroho\n",
    "* NIM: 240411100103\n",
    "* Kelas: IF 2E (Struktur Data)\n"
   ],
   "metadata": {
    "id": "eU_smI44Zl12"
   }
  },
  {
   "cell_type": "markdown",
   "source": [
    "1. Buat fungsi untuk menghitung nilai IPK dari seorang mahasiswa dengan parameter inputan berupapasangan matakuliah yang diambil dan nilai yang diperoleh. Misal : \\\n",
    "input : data={‘Matematika’:’A’,’Algoritma Pemrograman’:’B’,’Statistika’:’D’} \\\n",
    "Output : 2,89 \\\n",
    "Penjelasan: Matematika memiliki kredit 3 sks, Algoritma Pemrograman 4 sks, dan Statistika 2 sks."
   ],
   "metadata": {
    "id": "z2kGiVBiZoac"
   }
  },
  {
   "cell_type": "code",
   "metadata": {
    "id": "rXXidryvZb6z",
    "ExecuteTime": {
     "end_time": "2025-03-14T15:07:32.080151Z",
     "start_time": "2025-03-14T15:07:32.076411Z"
    }
   },
   "source": [
    "def hitung_ipk(data):\n",
    "    sks = {\n",
    "        'Matematika': 3,\n",
    "        'Algoritma Pemrograman': 4,\n",
    "        'Statistika': 2\n",
    "    }\n",
    "\n",
    "    nilai = {\n",
    "        'A': 4,\n",
    "        'B': 3,\n",
    "        'C': 2,\n",
    "        'D': 1,\n",
    "        'E': 0\n",
    "    }\n",
    "\n",
    "    total_bobot = 0\n",
    "    total_sks = 0\n",
    "\n",
    "    for matkul in data:\n",
    "        total_bobot += nilai[data[matkul]] * sks[matkul]\n",
    "        total_sks += sks[matkul]\n",
    "\n",
    "    ipk = total_bobot / total_sks\n",
    "\n",
    "    ipk_bulat = int(ipk)\n",
    "    ipk_desimal = int((ipk - ipk_bulat) * 100 + 0.5)\n",
    "\n",
    "    if ipk_desimal < 10:\n",
    "        return f\"{ipk_bulat},0{ipk_desimal}\"\n",
    "    else:\n",
    "        return f\"{ipk_bulat},{ipk_desimal}\"\n",
    "\n",
    "data = {'Matematika': 'A', 'Algoritma Pemrograman': 'B', 'Statistika': 'D'}\n",
    "print(f\"Input: {data}\")\n",
    "print(f\"Output: {hitung_ipk(data)}\")"
   ],
   "outputs": [
    {
     "name": "stdout",
     "output_type": "stream",
     "text": [
      "Input: {'Matematika': 'A', 'Algoritma Pemrograman': 'B', 'Statistika': 'D'}\n",
      "Output: 2,89\n"
     ]
    }
   ],
   "execution_count": 41
  },
  {
   "cell_type": "markdown",
   "source": [
    "2. Terdapat suatu list data berisikan nilai integer. Buatlah fungsi untuk mencari dua indeks berbeda\n",
    "yaitu indeks i dan j , sedemikan hingga perkalian antara (data[i]−1) ∗ (data[j]−1) menghasilkan nilai\n",
    "maksimal. Return value adalah indeks i dan indeks j. Misal : \\\n",
    "input : data=[1,5,9,10,8] \\\n",
    "output : [2,3] \\\n",
    "penjelasan : data pada indeks kedua dan indeks ketiga menghasilkan perkalian maksimal \\\n",
    "yaitu 8 x 9 = 72 \\\n",
    "============================= \\\n",
    "input : data=[8,1,7,9,9,10,12,18,2,3] \\\n",
    "output : [6,7] \\\n",
    "penjelasan : penjelasan : data pada indeks keenam dan indeks ketujuh menghasilkan \\\n",
    "perkalian maksimal, yaitu 11 x 17 = 187 \\\n",
    "============================= \\\n",
    "input : data=[31,2,10,6,12,11,10,6,5,5] \\\n",
    "output : [0,4] \\\n",
    "penjelasan : penjelasan : data pada indeks ke-nol dan indeks keempat menghasilkan \\\n",
    "perkalian maksimal, yaitu 30 x 11 = 330 \\\n",
    "============================= \\"
   ],
   "metadata": {
    "id": "fMmQmoo0Z5j_"
   }
  },
  {
   "cell_type": "code",
   "source": [
    "def nilai_maksimal(data):\n",
    "    n = len(data)\n",
    "    max_hasil = 0\n",
    "    indeks = [0, 0]\n",
    "\n",
    "    for i in range(n):\n",
    "        for j in range(n):\n",
    "            if i != j:\n",
    "                hasil = (data[i] - 1) * (data[j] - 1)\n",
    "                if hasil > max_hasil:\n",
    "                    max_hasil = hasil\n",
    "                    indeks = [i, j]\n",
    "\n",
    "    return indeks\n",
    "\n",
    "# Contoh 1\n",
    "data1 = [1, 5, 9, 10, 8]\n",
    "print(f\"Input: {data1}\")\n",
    "hasil1 = nilai_maksimal(data1)\n",
    "print(f\"Output: {hasil1}\")\n",
    "print(f\"Penjelasan: data pada indeks {hasil1[0]} dan indeks {hasil1[1]} menghasilkan perkalian maksimal\")\n",
    "print(f\"yaitu {data1[hasil1[0]]-1} x {data1[hasil1[1]]-1} = {(data1[hasil1[0]]-1)*(data1[hasil1[1]]-1)}\\n\")\n",
    "\n",
    "# Contoh 2\n",
    "data2 = [8, 1, 7, 9, 9, 10, 12, 18, 2, 3]\n",
    "print(f\"Input: {data2}\")\n",
    "hasil2 = nilai_maksimal(data2)\n",
    "print(f\"Output: {hasil2}\")\n",
    "print(f\"Penjelasan: data pada indeks {hasil2[0]} dan indeks {hasil2[1]} menghasilkan perkalian maksimal\")\n",
    "print(f\"yaitu {data2[hasil2[0]]-1} x {data2[hasil2[1]]-1} = {(data2[hasil2[0]]-1)*(data2[hasil2[1]]-1)} \\n\")\n",
    "\n",
    "# Contoh 3\n",
    "data3 = [31, 2, 10, 6, 12, 11, 10, 6, 5, 5]\n",
    "print(f\"Input: {data3}\")\n",
    "hasil3 = nilai_maksimal(data3)\n",
    "print(f\"Output: {hasil3}\")\n",
    "print(f\"Penjelasan: data pada indeks {hasil3[0]} dan indeks {hasil3[1]} menghasilkan perkalian maksimal\")\n",
    "print(f\"yaitu {data3[hasil3[0]]-1} x {data3[hasil3[1]]-1} = {(data3[hasil3[0]]-1)*(data3[hasil3[1]]-1)}\")"
   ],
   "metadata": {
    "id": "h0Uwcus0Z58l",
    "ExecuteTime": {
     "end_time": "2025-03-14T14:38:43.578373Z",
     "start_time": "2025-03-14T14:38:43.573567Z"
    }
   },
   "outputs": [
    {
     "name": "stdout",
     "output_type": "stream",
     "text": [
      "Input: [1, 5, 9, 10, 8]\n",
      "Output: [2, 3]\n",
      "Penjelasan: data pada indeks 2 dan indeks 3 menghasilkan perkalian maksimal\n",
      "yaitu 8 x 9 = 72\n",
      "\n",
      "Input: [8, 1, 7, 9, 9, 10, 12, 18, 2, 3]\n",
      "Output: [6, 7]\n",
      "Penjelasan: data pada indeks 6 dan indeks 7 menghasilkan perkalian maksimal\n",
      "yaitu 11 x 17 = 187 \n",
      "\n",
      "Input: [31, 2, 10, 6, 12, 11, 10, 6, 5, 5]\n",
      "Output: [0, 4]\n",
      "Penjelasan: data pada indeks 0 dan indeks 4 menghasilkan perkalian maksimal\n",
      "yaitu 30 x 11 = 330 \n",
      "\n"
     ]
    }
   ],
   "execution_count": 27
  },
  {
   "cell_type": "markdown",
   "source": [
    "3. Terdapat data integer. Buatlah Fungsi untuk melakukan pengecekan apakah data tersebut adalah data\n",
    "angka **palindrome**, yaitu ketika data tersebut dibaca dari kanan atau dari kiri memiliki nilai sama.\n",
    "Return value adalah True jika palindrome dan False jika sebaliknya. \\\n",
    "input : 125521 \\\n",
    "output : True \\\n",
    "============================= \\\n",
    "input : -125521 \\\n",
    "output : False \\\n",
    "============================= \\\n",
    "input : 15 \\\n",
    "output : False \\\n",
    "============================= \\\n",
    "input : 777 \\\n",
    "output : True"
   ],
   "metadata": {
    "id": "EJD2owEtayD_"
   }
  },
  {
   "cell_type": "code",
   "source": [
    "def isPalindrome(nomer):\n",
    "    reverse = nomer[::-1]\n",
    "    # print(reverse)\n",
    "\n",
    "    if nomer == reverse:\n",
    "        return True\n",
    "    else:\n",
    "        return False\n",
    "\n",
    "nomer = 15221\n",
    "print(\"output:\",isPalindrome(nomer))"
   ],
   "metadata": {
    "id": "3npziv32bGh4",
    "ExecuteTime": {
     "end_time": "2025-03-14T15:11:35.816937Z",
     "start_time": "2025-03-14T15:11:35.785233Z"
    }
   },
   "outputs": [
    {
     "ename": "TypeError",
     "evalue": "'int' object is not subscriptable",
     "output_type": "error",
     "traceback": [
      "\u001B[31m---------------------------------------------------------------------------\u001B[39m",
      "\u001B[31mTypeError\u001B[39m                                 Traceback (most recent call last)",
      "\u001B[36mCell\u001B[39m\u001B[36m \u001B[39m\u001B[32mIn[49]\u001B[39m\u001B[32m, line 11\u001B[39m\n\u001B[32m      8\u001B[39m         \u001B[38;5;28;01mreturn\u001B[39;00m \u001B[38;5;28;01mFalse\u001B[39;00m\n\u001B[32m     10\u001B[39m nomer = \u001B[32m15221\u001B[39m\n\u001B[32m---> \u001B[39m\u001B[32m11\u001B[39m \u001B[38;5;28mprint\u001B[39m(\u001B[33m\"\u001B[39m\u001B[33moutput:\u001B[39m\u001B[33m\"\u001B[39m,\u001B[43misPalindrome\u001B[49m\u001B[43m(\u001B[49m\u001B[43mnomer\u001B[49m\u001B[43m)\u001B[49m)\n",
      "\u001B[36mCell\u001B[39m\u001B[36m \u001B[39m\u001B[32mIn[49]\u001B[39m\u001B[32m, line 2\u001B[39m, in \u001B[36misPalindrome\u001B[39m\u001B[34m(nomer)\u001B[39m\n\u001B[32m      1\u001B[39m \u001B[38;5;28;01mdef\u001B[39;00m\u001B[38;5;250m \u001B[39m\u001B[34misPalindrome\u001B[39m(nomer):\n\u001B[32m----> \u001B[39m\u001B[32m2\u001B[39m     reverse = \u001B[43mnomer\u001B[49m\u001B[43m[\u001B[49m\u001B[43m:\u001B[49m\u001B[43m:\u001B[49m\u001B[43m-\u001B[49m\u001B[32;43m1\u001B[39;49m\u001B[43m]\u001B[49m\n\u001B[32m      3\u001B[39m     \u001B[38;5;66;03m# print(reverse)\u001B[39;00m\n\u001B[32m      5\u001B[39m     \u001B[38;5;28;01mif\u001B[39;00m nomer == reverse:\n",
      "\u001B[31mTypeError\u001B[39m: 'int' object is not subscriptable"
     ]
    }
   ],
   "execution_count": 49
  },
  {
   "cell_type": "markdown",
   "source": [
    "4. Terdapat suatu list yang terdiri dari bilangan bulat positif. Buatlah fungsi untuk menghasilkan bilan-\n",
    "gan yang paling sering muncul di dalam list tersebut. \\\n",
    "\\\n",
    "input : [4,1,4,6] \\\n",
    "output : 4 \\\n",
    "Penjelasan : angka ’4’ paling sering muncul di dalam list \\\n",
    "=========================================== \\\n",
    "input : [1,5,5,8,9,10,12] \\\n",
    "output : 5 \\\n",
    "Penjelasan : angka ’5’ paling sering muncul di dalam list \\\n",
    "=========================================== \\\n",
    "input : [2,2,1,1,1,2,2] \\\n",
    "output : 2 \\\n",
    "Penjelasan : angka ’2’ paling sering muncul di dalam list"
   ],
   "metadata": {
    "id": "8hBnmKrRbG1m"
   }
  },
  {
   "cell_type": "code",
   "source": [
    "def modus(nomer):\n",
    "    frekuensi = {}\n",
    "\n",
    "    for num in nomer:\n",
    "        if num in frekuensi:\n",
    "            frekuensi[num] = frekuensi[num] + 1\n",
    "        else:\n",
    "            frekuensi[num] = 1\n",
    "\n",
    "    maksimal = 0\n",
    "    muncul = 0\n",
    "\n",
    "    for num, banyak in frekuensi.items():\n",
    "        if banyak > maksimal:\n",
    "            maksimal = banyak\n",
    "            muncul = num\n",
    "\n",
    "    return muncul\n",
    "\n",
    "data = [4,1,4,6]\n",
    "print(f\"input: {data}\")\n",
    "print(f\"output: {modus(data)}\")\n",
    "print(f\"Penjelasan : angka '{modus(data)}' paling sering muncul \\n\")\n",
    "\n",
    "data2 = [1, 5, 5, 8, 9, 10, 12]\n",
    "print(f\"input: {data2}\")\n",
    "print(f\"output: {modus(data2)}\")\n",
    "print(f\"Penjelasan : angka '{modus(data2)}' paling sering muncul \\n\")\n",
    "\n",
    "data3 = [2,2,1,1,1,2,2]\n",
    "print(f\"input: {data3}\")\n",
    "print(f\"output: {modus(data3)}\")\n",
    "print(f\"Penjelasan : angka '{modus(data3)}' paling sering muncul\")"
   ],
   "metadata": {
    "id": "1DB_Vh9mbiT_",
    "ExecuteTime": {
     "end_time": "2025-03-14T14:41:07.020139Z",
     "start_time": "2025-03-14T14:41:07.014241Z"
    }
   },
   "outputs": [
    {
     "name": "stdout",
     "output_type": "stream",
     "text": [
      "input: [4, 1, 4, 6]\n",
      "output: 4\n",
      "Penjelasan : angka '4' paling sering muncul \n",
      "\n",
      "input: [1, 5, 5, 8, 9, 10, 12]\n",
      "output: 5\n",
      "Penjelasan : angka '5' paling sering muncul \n",
      "\n",
      "input: [2, 2, 1, 1, 1, 2, 2]\n",
      "output: 2\n",
      "Penjelasan : angka '2' paling sering muncul\n"
     ]
    }
   ],
   "execution_count": 28
  },
  {
   "cell_type": "markdown",
   "source": [
    "5. Buatlah Fungsi dan code yang diperlukan untuk memanggil fungsi tersebut dengan menggunakan bahasa Python, antara lain:\n",
    "\n",
    "   * Fungsi **createList** untuk membentuk suatu list dengan parameter atau argumen berupa ukuran list\n",
    "   * Fungsi untuk menghitung Persamaan (1) yaitu:\n",
    "\n",
    "     $$y = \\frac{1}{n} \\sum_{i=0}^{n-1} x_i \\tag{1}$$\n",
    "\n",
    "     dimana $n$ adalah jumlah data yang terdapat pada list (dari fungsi createList), dan $x_i$ adalah data ke-$i$ dari suatu list\n",
    "   * Fungsi untuk menghitung Persamaan (2) yaitu:\n",
    "\n",
    "     $$z = \\frac{1}{n-1} \\sum_{i=0}^{n-1} (x_i - y)^2 \\tag{2}$$\n",
    "\n",
    "     dimana $n$ adalah jumlah data yang terdapat pada list (dari fungsi createList), dan $x_i$ adalah data ke-$i$ dari suatu list, dan $y$ adalah hasil perhitungan yang didapatkan pada Persamaan (1)\n",
    "   * Buktikan dengan perhitungan manual bahwa output yang dihasilkan dari fungsi yang dibuat sama dengan hasil perhitungan manual"
   ],
   "metadata": {
    "id": "sPznVoDybg5Y"
   }
  },
  {
   "cell_type": "code",
   "source": [
    "def createList(size):\n",
    "    my_list = []\n",
    "    print(f\"Masukkan {size} angka:\")\n",
    "    for i in range(size):\n",
    "        num = float(input(f\"Angka ke-{i+1}: \"))\n",
    "        my_list.append(num)\n",
    "    return my_list\n",
    "\n",
    "def hitung_persamaan1(data_list):\n",
    "    print(\"\\n--- Tahap Perhitungan Persamaan (1) ---\")\n",
    "    n = len(data_list)\n",
    "    print(f\"Jumlah data (n): {n}\")\n",
    "\n",
    "    print(\"Data yang digunakan:\")\n",
    "    for i, nilai in enumerate(data_list):\n",
    "        print(f\"  x[{i}] = {nilai}\")\n",
    "\n",
    "    total = sum(data_list)\n",
    "    print(f\"Total dari semua data: {total}\")\n",
    "\n",
    "    y = total / n\n",
    "    print(f\"Rata-rata (y) = {total} / {n} = {y}\")\n",
    "    return y\n",
    "\n",
    "def hitung_persamaan2(data_list, y):\n",
    "    print(\"\\n--- Tahap Perhitungan Persamaan (2) ---\")\n",
    "    n = len(data_list)\n",
    "    print(f\"Jumlah data (n): {n}\")\n",
    "    print(f\"Nilai y dari Persamaan (1): {y}\")\n",
    "\n",
    "    print(\"\\nMenghitung (x_i - y)² untuk setiap data:\")\n",
    "    kuadrat_selisih = []\n",
    "    for i, nilai in enumerate(data_list):\n",
    "        selisih = nilai - y\n",
    "        kuadrat = selisih ** 2\n",
    "        print(f\"  (x[{i}] - y)² = ({nilai} - {y})² = ({selisih})² = {kuadrat}\")\n",
    "        kuadrat_selisih.append(kuadrat)\n",
    "\n",
    "    total = sum(kuadrat_selisih)\n",
    "    print(f\"\\nTotal dari semua (x_i - y)²: {total}\")\n",
    "\n",
    "    z = total / (n - 1)\n",
    "    print(f\"Varians (z) = {total} / ({n} - 1) = {total} / {n-1} = {z}\")\n",
    "    return z\n",
    "\n",
    "# Program utama\n",
    "size = int(input(\"Masukkan ukuran list: \"))\n",
    "\n",
    "data = createList(size)\n",
    "print(f\"List yang dibuat: {data}\")\n",
    "\n",
    "y = hitung_persamaan1(data)\n",
    "print(f\"\\nHasil perhitungan Persamaan (1): {y}\")\n",
    "\n",
    "z = hitung_persamaan2(data, y)\n",
    "print(f\"\\nHasil perhitungan Persamaan (2): {z}\")"
   ],
   "metadata": {
    "id": "x9prbidbbhPe",
    "ExecuteTime": {
     "end_time": "2025-03-14T15:05:12.500069Z",
     "start_time": "2025-03-14T15:05:05.334380Z"
    }
   },
   "outputs": [
    {
     "name": "stdout",
     "output_type": "stream",
     "text": [
      "Masukkan 5 angka:\n",
      "List yang dibuat: [3.0, 4.0, 5.0, 6.0, 7.0]\n",
      "\n",
      "--- Tahap Perhitungan Persamaan (1) ---\n",
      "Jumlah data (n): 5\n",
      "Data yang digunakan:\n",
      "  x[0] = 3.0\n",
      "  x[1] = 4.0\n",
      "  x[2] = 5.0\n",
      "  x[3] = 6.0\n",
      "  x[4] = 7.0\n",
      "Total dari semua data: 25.0\n",
      "Rata-rata (y) = 25.0 / 5 = 5.0\n",
      "\n",
      "Hasil perhitungan Persamaan (1): 5.0\n",
      "\n",
      "--- Tahap Perhitungan Persamaan (2) ---\n",
      "Jumlah data (n): 5\n",
      "Nilai y dari Persamaan (1): 5.0\n",
      "\n",
      "Menghitung (x_i - y)² untuk setiap data:\n",
      "  (x[0] - y)² = (3.0 - 5.0)² = (-2.0)² = 4.0\n",
      "  (x[1] - y)² = (4.0 - 5.0)² = (-1.0)² = 1.0\n",
      "  (x[2] - y)² = (5.0 - 5.0)² = (0.0)² = 0.0\n",
      "  (x[3] - y)² = (6.0 - 5.0)² = (1.0)² = 1.0\n",
      "  (x[4] - y)² = (7.0 - 5.0)² = (2.0)² = 4.0\n",
      "\n",
      "Total dari semua (x_i - y)²: 10.0\n",
      "Varians (z) = 10.0 / (5 - 1) = 10.0 / 4 = 2.5\n",
      "\n",
      "Hasil perhitungan Persamaan (2): 2.5\n"
     ]
    }
   ],
   "execution_count": 40
  },
  {
   "metadata": {},
   "cell_type": "code",
   "outputs": [],
   "execution_count": null,
   "source": ""
  }
 ]
}
