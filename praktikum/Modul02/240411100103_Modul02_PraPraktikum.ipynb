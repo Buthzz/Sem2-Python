{
 "nbformat": 4,
 "nbformat_minor": 0,
 "metadata": {
  "colab": {
   "provenance": []
  },
  "kernelspec": {
   "name": "python3",
   "display_name": "Python 3 (ipykernel)",
   "language": "python"
  },
  "language_info": {
   "name": "python"
  }
 },
 "cells": [
  {
   "cell_type": "markdown",
   "source": [
    "#### TUGAS PRA-PRAKTIKUM MODUL - 02 (Review Algoritma #2)\n",
    "\n",
    "* Nama: Muhammad Fajar Nugroho\n",
    "* NIM: 240411100103\n",
    "* Kelas: IF 2E (Struktur Data)"
   ],
   "metadata": {
    "id": "OcE738v4TqkQ"
   }
  },
  {
   "cell_type": "markdown",
   "source": [
    "1. Buat fungsi _create_list(n)_, yaitu fungsi untuk menghasilkan suatu list, dimana _n_ adalah banyaknya anggota dalam list, dan anggota list merupakan inputa dari user"
   ],
   "metadata": {
    "id": "Ha38uDzjTyfa"
   }
  },
  {
   "cell_type": "code",
   "metadata": {
    "colab": {
     "base_uri": "https://localhost:8080/"
    },
    "id": "LyKAIaJlLU4F",
    "outputId": "cdb88a03-3e1e-4e39-94c4-d6ca7ec0615c",
    "ExecuteTime": {
     "end_time": "2025-03-21T02:47:08.875141Z",
     "start_time": "2025-03-21T02:46:49.752455Z"
    }
   },
   "source": [
    "def create_list(n):\n",
    "    data_list = []\n",
    "    for i in range(n):\n",
    "        item = input(f\"Masukkan data ke-{i + 1}: \")\n",
    "        data_list.append(item)\n",
    "    return data_list\n",
    "\n",
    "jumlah_anggota = int(input(\"Masukkan jumlah data list: \"))\n",
    "hasil_list = create_list(jumlah_anggota)\n",
    "print(\"List yang dihasilkan:\", hasil_list)"
   ],
   "outputs": [
    {
     "name": "stdout",
     "output_type": "stream",
     "text": [
      "List yang dihasilkan: ['3', '5', '6', '7', '9']\n"
     ]
    }
   ],
   "execution_count": 1
  },
  {
   "cell_type": "markdown",
   "source": [
    "2. Buat fungsi _add_list(a, b)_ , yaitu fungsi untuk menambahkan dua buah list yaitu _a_ dan _b_, dimana ukuran dari dua buah list tersebut haruslah sama"
   ],
   "metadata": {
    "id": "kJV33pjNYXAX"
   }
  },
  {
   "cell_type": "code",
   "source": [
    "def add_list(a,b):\n",
    "  if len(a) != len(b):\n",
    "    return \"Panjang list harus sama!\"\n",
    "  else:\n",
    "    hasil = []\n",
    "    for i in range(len(a)):\n",
    "      tambahan = a[i] + b[i]\n",
    "      hasil.append(tambahan)\n",
    "    return hasil\n",
    "\n",
    "dataA = [5,6,7,8,9]\n",
    "dataB = [1,3,5,7,0]\n",
    "print(\"Hasil penjumlahan kedua list: \", add_list(dataA,dataB))"
   ],
   "metadata": {
    "colab": {
     "base_uri": "https://localhost:8080/"
    },
    "id": "9YqfJ3MsYjRC",
    "outputId": "b6d6b01b-b41a-48a8-f715-9af58ed092ce"
   },
   "execution_count": null,
   "outputs": [
    {
     "output_type": "stream",
     "name": "stdout",
     "text": [
      "Hasil penjumlahan kedua list:  [6, 9, 12, 15, 9]\n"
     ]
    }
   ]
  },
  {
   "cell_type": "markdown",
   "source": [
    "3. Buat fungsi _rev_list(a)_ , yaitu fungsi untuk membalik anggota-anggota di dalam list _a_, misalkan _a_ = [1, 2, 3, 4, 5], maka return value dari fungsi tersebut adalah [5, 4, 3, 2, 1]"
   ],
   "metadata": {
    "id": "u4W5ykzDYjmO"
   }
  },
  {
   "cell_type": "code",
   "source": [
    "def rev_list(n):\n",
    "  data = []\n",
    "  for i in range(len(n)-1, -1, -1):\n",
    "    data.append(n[i])\n",
    "  return data\n",
    "\n",
    "a = [1,2,3,4,5]\n",
    "print(\"Data list: \", a)\n",
    "print(\"Hasil reverse: \",rev_list(a))"
   ],
   "metadata": {
    "colab": {
     "base_uri": "https://localhost:8080/"
    },
    "id": "y7gH8L6RY2TC",
    "outputId": "c083a0ac-ce55-436f-d893-cda5f57c983d"
   },
   "execution_count": null,
   "outputs": [
    {
     "output_type": "stream",
     "name": "stdout",
     "text": [
      "Data list:  [1, 2, 3, 4, 5]\n",
      "Hasil reverse:  [5, 4, 3, 2, 1]\n"
     ]
    }
   ]
  },
  {
   "cell_type": "markdown",
   "source": [
    "4. Faktor Persekutuan Terbesar (FPB) adalah faktor pembagi terbesar yang sama dari dua buah bilangan. Misalkan terdapat bilangan 4 dan 8, maka FPB adalah 4, misalkan terdapat bilangan 24 dan 60, maka FPB adalah 12. Berikut adalah fungsi untuk mendapatkan FPB tersebut. Cek kembali fungsi tersebut, dan lakukan perubahan terhadap fungsi tersebut agar menghasilkan output yang diinginkan.\n",
    "\n",
    "\n",
    "\n",
    "```\n",
    "def FPB(a,b):\n",
    "  if a<b:\n",
    "    temp=a\n",
    "  else:\n",
    "    temp=b\n",
    "  print(temp)\n",
    "  for i in range(1,temp):\n",
    "    if a%i==0 and b%i==0:\n",
    "      return i\n",
    "```\n",
    "\n"
   ],
   "metadata": {
    "id": "Pvj0-UtAY2n-"
   }
  },
  {
   "cell_type": "code",
   "source": [
    "def FPB(a, b):\n",
    "    if a < b:\n",
    "        temp = a\n",
    "    else:\n",
    "        temp = b\n",
    "\n",
    "    fpb = 1\n",
    "    for i in range(1, temp + 1):\n",
    "        if a % i == 0 and b % i == 0:\n",
    "            fpb = i\n",
    "\n",
    "    return fpb\n",
    "\n",
    "print(\"Hasil FPB 4 & 8:\",FPB(4,8))\n",
    "print(\"Hasil FPB 24 & 60:\",FPB(24,60))\n",
    "print(\"Hasil FPB 10 & 15:\",FPB(10, 15))"
   ],
   "metadata": {
    "colab": {
     "base_uri": "https://localhost:8080/"
    },
    "id": "AosBUFf_ZBZK",
    "outputId": "5453d053-34f7-4d63-edf4-c68df91f3713"
   },
   "execution_count": null,
   "outputs": [
    {
     "output_type": "stream",
     "name": "stdout",
     "text": [
      "Hasil FPB 4 & 8: 4\n",
      "Hasil FPB 24 & 60: 12\n",
      "Hasil FPB 10 & 15: 5\n"
     ]
    }
   ]
  }
 ]
}
