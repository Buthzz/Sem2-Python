{
 "cells": [
  {
   "metadata": {},
   "cell_type": "markdown",
   "source": [
    "### Praktikum Struktur Data\n",
    "#### Modul 2 - Review Algoritma #2\n",
    "##### Minggu, 16 Maret 2025"
   ],
   "id": "5c26fe9419919011"
  },
  {
   "metadata": {},
   "cell_type": "markdown",
   "source": "#### List",
   "id": "becfb79efd8e9288"
  },
  {
   "metadata": {
    "collapsed": true,
    "ExecuteTime": {
     "end_time": "2025-03-21T02:54:09.729528Z",
     "start_time": "2025-03-21T02:54:09.711380Z"
    }
   },
   "cell_type": "code",
   "source": [
    "list1 = []\n",
    "for i in range(10):\n",
    "    if i % 2 == 0:\n",
    "        list1.append(i)\n",
    "\n",
    "print(list1)\n",
    "\n"
   ],
   "id": "initial_id",
   "outputs": [
    {
     "name": "stdout",
     "output_type": "stream",
     "text": [
      "[0, 2, 4, 6, 8]\n"
     ]
    }
   ],
   "execution_count": 2
  },
  {
   "metadata": {},
   "cell_type": "markdown",
   "source": "#### List comprehension",
   "id": "e14189d1d83ce180"
  },
  {
   "metadata": {
    "ExecuteTime": {
     "end_time": "2025-03-21T03:02:30.176142Z",
     "start_time": "2025-03-21T03:02:30.160763Z"
    }
   },
   "cell_type": "code",
   "source": [
    "list1 = [i for i in range(10) if i % 2 == 0]\n",
    "print(list1)\n",
    "\n",
    "for i in (list1):\n",
    "    print(\"Ini merupakan list 1D\", i)"
   ],
   "id": "919f0a34c7b63e81",
   "outputs": [
    {
     "name": "stdout",
     "output_type": "stream",
     "text": [
      "[0, 2, 4, 6, 8]\n",
      "Ini merupakan list 1D 0\n",
      "Ini merupakan list 1D 2\n",
      "Ini merupakan list 1D 4\n",
      "Ini merupakan list 1D 6\n",
      "Ini merupakan list 1D 8\n"
     ]
    }
   ],
   "execution_count": 4
  },
  {
   "metadata": {},
   "cell_type": "markdown",
   "source": "#### List 2D",
   "id": "56e3872808401cf5"
  },
  {
   "metadata": {
    "ExecuteTime": {
     "end_time": "2025-03-21T03:04:47.255247Z",
     "start_time": "2025-03-21T03:04:47.247796Z"
    }
   },
   "cell_type": "code",
   "source": [
    "list2D = [[2,3,4], [4,6,6]]\n",
    "print(list2D)\n",
    "for i in (list2D):\n",
    "    for j in i:\n",
    "        print(f\"Ini list baris {i} akan menghasilkan {j}\")"
   ],
   "id": "f5467fae2200c284",
   "outputs": [
    {
     "name": "stdout",
     "output_type": "stream",
     "text": [
      "[[2, 3, 4], [4, 6, 6]]\n",
      "Ini list baris [2, 3, 4] akan menghasilkan 2\n",
      "Ini list baris [2, 3, 4] akan menghasilkan 3\n",
      "Ini list baris [2, 3, 4] akan menghasilkan 4\n",
      "Ini list baris [4, 6, 6] akan menghasilkan 4\n",
      "Ini list baris [4, 6, 6] akan menghasilkan 6\n",
      "Ini list baris [4, 6, 6] akan menghasilkan 6\n"
     ]
    }
   ],
   "execution_count": 9
  },
  {
   "metadata": {},
   "cell_type": "markdown",
   "source": "#### Method list",
   "id": "5079833de56442ea"
  },
  {
   "metadata": {
    "ExecuteTime": {
     "end_time": "2025-03-21T03:18:19.271715Z",
     "start_time": "2025-03-21T03:18:19.256893Z"
    }
   },
   "cell_type": "code",
   "source": [
    "list2D = [[2,3,4], [4,6,6]]\n",
    "print(list2D)\n",
    "list2D.reverse()\n",
    "print(list2D)\n",
    "list2D.sort()\n",
    "print(list2D)\n",
    "# list1[2].count(6)\n",
    "# print(list1)\n",
    "# list1[0].count\n",
    "# print(list1)\n",
    "list2D.append(10)\n",
    "print(list2D)\n",
    "list2D.insert(0, 20)\n",
    "print(list2D)\n",
    "list2D.pop(-1)\n",
    "print(list2D)\n",
    "list2D.remove(20)\n",
    "print(list2D)"
   ],
   "id": "511e37eaf18f4ffe",
   "outputs": [
    {
     "name": "stdout",
     "output_type": "stream",
     "text": [
      "[[2, 3, 4], [4, 6, 6]]\n",
      "[[4, 6, 6], [2, 3, 4]]\n",
      "[[2, 3, 4], [4, 6, 6]]\n",
      "[[2, 3, 4], [4, 6, 6], 10]\n",
      "[20, [2, 3, 4], [4, 6, 6], 10]\n",
      "[20, [2, 3, 4], [4, 6, 6]]\n",
      "[[2, 3, 4], [4, 6, 6]]\n"
     ]
    }
   ],
   "execution_count": 34
  },
  {
   "metadata": {},
   "cell_type": "markdown",
   "source": "#### Dictionary",
   "id": "aaf27c8e8fbf2baa"
  },
  {
   "metadata": {
    "ExecuteTime": {
     "end_time": "2025-03-21T03:20:53.221640Z",
     "start_time": "2025-03-21T03:20:53.181644Z"
    }
   },
   "cell_type": "code",
   "source": [
    "dict1 = {\n",
    "    '2301' : 'Nama1',\n",
    "    '2302' : 'Nama2'\n",
    "}\n",
    "\n",
    "print(dict1)\n",
    "\n",
    "dict2.get('2302')"
   ],
   "id": "ad5c6ca7e318705d",
   "outputs": [
    {
     "name": "stdout",
     "output_type": "stream",
     "text": [
      "{'2301': 'Nama1', '2302': 'Nama2'}\n"
     ]
    },
    {
     "ename": "NameError",
     "evalue": "name 'dict2' is not defined",
     "output_type": "error",
     "traceback": [
      "\u001B[0;31m---------------------------------------------------------------------------\u001B[0m",
      "\u001B[0;31mNameError\u001B[0m                                 Traceback (most recent call last)",
      "Cell \u001B[0;32mIn[38], line 8\u001B[0m\n\u001B[1;32m      1\u001B[0m dict1 \u001B[38;5;241m=\u001B[39m {\n\u001B[1;32m      2\u001B[0m     \u001B[38;5;124m'\u001B[39m\u001B[38;5;124m2301\u001B[39m\u001B[38;5;124m'\u001B[39m : \u001B[38;5;124m'\u001B[39m\u001B[38;5;124mNama1\u001B[39m\u001B[38;5;124m'\u001B[39m,\n\u001B[1;32m      3\u001B[0m     \u001B[38;5;124m'\u001B[39m\u001B[38;5;124m2302\u001B[39m\u001B[38;5;124m'\u001B[39m : \u001B[38;5;124m'\u001B[39m\u001B[38;5;124mNama2\u001B[39m\u001B[38;5;124m'\u001B[39m\n\u001B[1;32m      4\u001B[0m }\n\u001B[1;32m      6\u001B[0m \u001B[38;5;28mprint\u001B[39m(dict1)\n\u001B[0;32m----> 8\u001B[0m \u001B[43mdict2\u001B[49m\u001B[38;5;241m.\u001B[39mget(\u001B[38;5;124m'\u001B[39m\u001B[38;5;124m2302\u001B[39m\u001B[38;5;124m'\u001B[39m)\n",
      "\u001B[0;31mNameError\u001B[0m: name 'dict2' is not defined"
     ]
    }
   ],
   "execution_count": 38
  },
  {
   "metadata": {},
   "cell_type": "markdown",
   "source": "#### challange",
   "id": "31b7f12bdec1aec6"
  },
  {
   "metadata": {
    "ExecuteTime": {
     "end_time": "2025-03-21T03:23:09.329231Z",
     "start_time": "2025-03-21T03:23:09.287425Z"
    }
   },
   "cell_type": "code",
   "source": [
    "matriks = [\n",
    "    [9, 4, 7]\n",
    "    [1, 5, 3]\n",
    "    [8, 2, 6]\n",
    "]\n",
    "\n",
    "matriks.sort()\n",
    "print(matriks)"
   ],
   "id": "f46486922de87a48",
   "outputs": [
    {
     "name": "stderr",
     "output_type": "stream",
     "text": [
      "<>:2: SyntaxWarning: list indices must be integers or slices, not tuple; perhaps you missed a comma?\n",
      "<>:2: SyntaxWarning: list indices must be integers or slices, not tuple; perhaps you missed a comma?\n",
      "/tmp/ipykernel_1988/413048957.py:2: SyntaxWarning: list indices must be integers or slices, not tuple; perhaps you missed a comma?\n",
      "  [9, 4, 7]\n"
     ]
    },
    {
     "ename": "TypeError",
     "evalue": "list indices must be integers or slices, not tuple",
     "output_type": "error",
     "traceback": [
      "\u001B[0;31m---------------------------------------------------------------------------\u001B[0m",
      "\u001B[0;31mTypeError\u001B[0m                                 Traceback (most recent call last)",
      "Cell \u001B[0;32mIn[39], line 2\u001B[0m\n\u001B[1;32m      1\u001B[0m matriks \u001B[38;5;241m=\u001B[39m [\n\u001B[0;32m----> 2\u001B[0m     \u001B[43m[\u001B[49m\u001B[38;5;241;43m9\u001B[39;49m\u001B[43m,\u001B[49m\u001B[43m \u001B[49m\u001B[38;5;241;43m4\u001B[39;49m\u001B[43m,\u001B[49m\u001B[43m \u001B[49m\u001B[38;5;241;43m7\u001B[39;49m\u001B[43m]\u001B[49m\n\u001B[1;32m      3\u001B[0m \u001B[43m    \u001B[49m\u001B[43m[\u001B[49m\u001B[38;5;241;43m1\u001B[39;49m\u001B[43m,\u001B[49m\u001B[43m \u001B[49m\u001B[38;5;241;43m5\u001B[39;49m\u001B[43m,\u001B[49m\u001B[43m \u001B[49m\u001B[38;5;241;43m3\u001B[39;49m\u001B[43m]\u001B[49m\n\u001B[1;32m      4\u001B[0m     [\u001B[38;5;241m8\u001B[39m, \u001B[38;5;241m2\u001B[39m, \u001B[38;5;241m6\u001B[39m]\n\u001B[1;32m      5\u001B[0m ]\n\u001B[1;32m      7\u001B[0m matriks\u001B[38;5;241m.\u001B[39msort()\n\u001B[1;32m      8\u001B[0m \u001B[38;5;28mprint\u001B[39m(matriks)\n",
      "\u001B[0;31mTypeError\u001B[0m: list indices must be integers or slices, not tuple"
     ]
    }
   ],
   "execution_count": 39
  }
 ],
 "metadata": {
  "kernelspec": {
   "display_name": "Python 3",
   "language": "python",
   "name": "python3"
  },
  "language_info": {
   "codemirror_mode": {
    "name": "ipython",
    "version": 2
   },
   "file_extension": ".py",
   "mimetype": "text/x-python",
   "name": "python",
   "nbconvert_exporter": "python",
   "pygments_lexer": "ipython2",
   "version": "2.7.6"
  }
 },
 "nbformat": 4,
 "nbformat_minor": 5
}
