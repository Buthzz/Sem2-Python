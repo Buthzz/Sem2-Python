{
 "cells": [
  {
   "metadata": {},
   "cell_type": "markdown",
   "source": [
    "### Praktikum Struktur Data\n",
    "#### Modul 2 - Review Algoritma #2\n",
    "##### Minggu, 16 Maret 2025"
   ],
   "id": "5c26fe9419919011"
  },
  {
   "metadata": {},
   "cell_type": "markdown",
   "source": "#### List",
   "id": "becfb79efd8e9288"
  },
  {
   "metadata": {
    "collapsed": true,
    "ExecuteTime": {
     "end_time": "2025-03-21T02:54:09.729528Z",
     "start_time": "2025-03-21T02:54:09.711380Z"
    }
   },
   "cell_type": "code",
   "source": [
    "list1 = []\n",
    "for i in range(10):\n",
    "    if i % 2 == 0:\n",
    "        list1.append(i)\n",
    "\n",
    "print(list1)\n",
    "\n"
   ],
   "id": "initial_id",
   "outputs": [
    {
     "name": "stdout",
     "output_type": "stream",
     "text": [
      "[0, 2, 4, 6, 8]\n"
     ]
    }
   ],
   "execution_count": 2
  },
  {
   "metadata": {},
   "cell_type": "markdown",
   "source": "#### List comprehension",
   "id": "e14189d1d83ce180"
  },
  {
   "metadata": {
    "ExecuteTime": {
     "end_time": "2025-03-21T02:55:20.428366Z",
     "start_time": "2025-03-21T02:55:20.409891Z"
    }
   },
   "cell_type": "code",
   "source": [
    "list1 = [i for i in range(10) if i % 2 == 0]\n",
    "print(list1)"
   ],
   "id": "919f0a34c7b63e81",
   "outputs": [
    {
     "name": "stdout",
     "output_type": "stream",
     "text": [
      "[0, 2, 4, 6, 8]\n"
     ]
    }
   ],
   "execution_count": 3
  },
  {
   "metadata": {},
   "cell_type": "markdown",
   "source": "#### List 2D",
   "id": "56e3872808401cf5"
  },
  {
   "metadata": {
    "ExecuteTime": {
     "end_time": "2025-03-21T03:00:08.809009Z",
     "start_time": "2025-03-21T03:00:08.790964Z"
    }
   },
   "cell_type": "code",
   "source": [
    "list2D = [[2,3,4], [4,6,6]]\n",
    "print(list2D)\n",
    "for i in (list2D):\n",
    "    print(\"Ini merupakan list 1D\", i)"
   ],
   "id": "f5467fae2200c284",
   "outputs": [
    {
     "name": "stdout",
     "output_type": "stream",
     "text": [
      "[[2, 3, 4], [4, 6, 6]]\n",
      "Ini merupakan list 1D [2, 3, 4]\n",
      "Ini merupakan list 1D [4, 6, 6]\n"
     ]
    }
   ],
   "execution_count": 1
  }
 ],
 "metadata": {
  "kernelspec": {
   "display_name": "Python 3",
   "language": "python",
   "name": "python3"
  },
  "language_info": {
   "codemirror_mode": {
    "name": "ipython",
    "version": 2
   },
   "file_extension": ".py",
   "mimetype": "text/x-python",
   "name": "python",
   "nbconvert_exporter": "python",
   "pygments_lexer": "ipython2",
   "version": "2.7.6"
  }
 },
 "nbformat": 4,
 "nbformat_minor": 5
}
